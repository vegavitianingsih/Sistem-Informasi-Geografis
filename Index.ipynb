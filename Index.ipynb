{
 "cells": [
  {
   "cell_type": "markdown",
   "metadata": {},
   "source": [
    "# Sistem Informasi Geografis (SIG)\n",
    "## Rencana Perkuliahan Semester \n",
    "Semester Gasal 2018/2019"
   ]
  },
  {
   "cell_type": "markdown",
   "metadata": {},
   "source": [
    "## Materi Perkuliahan\n",
    "Berikut daftar isi materi mata kuliah SIG selama 1 semester ini, diantaranya:\n",
    "\n",
    "### Kontrak Kuliah\n",
    "[Kontrak Perkuliahan](Kontrak Kuliah.ipynb)\n",
    "\n",
    "### 1. Teori Pengantar SIG\n",
    "\n",
    "### 2. \n",
    "\n",
    "### 3. \n",
    "\n",
    "### 4. \n",
    "\n",
    "### 5. \n",
    "\n",
    "### 6. \n",
    "\n",
    "### 7. \n",
    "\n",
    "### 8. \n",
    "\n",
    "### 9. \n",
    "\n",
    "### 10. \n",
    "\n",
    "### 11. \n",
    "\n",
    "### 12. \n",
    "\n",
    "### 13. \n",
    "\n",
    "### 14. \n",
    "\n"
   ]
  },
  {
   "cell_type": "code",
   "execution_count": null,
   "metadata": {},
   "outputs": [],
   "source": []
  }
 ],
 "metadata": {
  "kernelspec": {
   "display_name": "Python 3",
   "language": "python",
   "name": "python3"
  },
  "language_info": {
   "codemirror_mode": {
    "name": "ipython",
    "version": 3
   },
   "file_extension": ".py",
   "mimetype": "text/x-python",
   "name": "python",
   "nbconvert_exporter": "python",
   "pygments_lexer": "ipython3",
   "version": "3.6.5"
  }
 },
 "nbformat": 4,
 "nbformat_minor": 2
}
